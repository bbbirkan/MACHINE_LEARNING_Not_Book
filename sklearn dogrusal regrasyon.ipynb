{
 "cells": [
  {
   "cell_type": "code",
   "execution_count": 1,
   "outputs": [
    {
     "name": "stdout",
     "output_type": "stream",
     "text": [
      "    boy\n",
      "0   130\n",
      "1   125\n",
      "2   135\n",
      "3   133\n",
      "4   129\n",
      "5   180\n",
      "6   190\n",
      "7   175\n",
      "8   177\n",
      "9   185\n",
      "10  165\n",
      "11  155\n",
      "12  160\n",
      "13  162\n",
      "14  167\n",
      "15  174\n",
      "16  193\n",
      "17  187\n",
      "18  183\n",
      "19  159\n",
      "20  164\n",
      "21  166\n",
      "    boy  kilo\n",
      "0   130    30\n",
      "1   125    36\n",
      "2   135    34\n",
      "3   133    30\n",
      "4   129    38\n",
      "5   180    90\n",
      "6   190    80\n",
      "7   175    90\n",
      "8   177    60\n",
      "9   185   105\n",
      "10  165    55\n",
      "11  155    50\n",
      "12  160    58\n",
      "13  162    59\n",
      "14  167    62\n",
      "15  174    70\n",
      "16  193    90\n",
      "17  187    80\n",
      "18  183    88\n",
      "19  159    40\n",
      "20  164    66\n",
      "21  166    56\n"
     ]
    }
   ],
   "source": [
    "#1.kutuphaneler\n",
    "import numpy as np\n",
    "import matplotlib.pyplot as plt\n",
    "import pandas as pd\n",
    "\n",
    "#2.1 veri yukleme\n",
    "veri = pd.read_csv('veriler.csv')\n",
    "boy = veri[['boy']],\n",
    "print(boy)\n",
    "boykilo = veri[['boy','kilo']]\n",
    "print(boykilo)\n"
   ],
   "metadata": {
    "collapsed": false,
    "pycharm": {
     "name": "#%%\n"
    }
   }
  },
  {
   "cell_type": "code",
   "execution_count": 29,
   "outputs": [
    {
     "name": "stdout",
     "output_type": "stream",
     "text": [
      "[[130.  30.  10.]\n",
      " [125.  36.  11.]\n",
      " [135.  34.  10.]\n",
      " [133.  30.   9.]\n",
      " [129.  38.  12.]\n",
      " [180.  90.  30.]\n",
      " [190.  80.  25.]\n",
      " [175.  90.  35.]\n",
      " [177.  60.  22.]\n",
      " [185.  nan  33.]\n",
      " [165.  55.  27.]\n",
      " [155.  50.  44.]\n",
      " [160.  58.  39.]\n",
      " [162.  nan  41.]\n",
      " [167.  62.  55.]\n",
      " [174.  nan  47.]\n",
      " [193.  90.  23.]\n",
      " [187.  80.  27.]\n",
      " [183.  88.  28.]\n",
      " [159.  40.  29.]\n",
      " [164.  66.  32.]\n",
      " [166.  56.  42.]]\n",
      "[[130.          30.          10.        ]\n",
      " [125.          36.          11.        ]\n",
      " [135.          34.          10.        ]\n",
      " [133.          30.           9.        ]\n",
      " [129.          38.          12.        ]\n",
      " [180.          90.          30.        ]\n",
      " [190.          80.          25.        ]\n",
      " [175.          90.          35.        ]\n",
      " [177.          60.          22.        ]\n",
      " [185.          59.63157895  33.        ]\n",
      " [165.          55.          27.        ]\n",
      " [155.          50.          44.        ]\n",
      " [160.          58.          39.        ]\n",
      " [162.          59.63157895  41.        ]\n",
      " [167.          62.          55.        ]\n",
      " [174.          59.63157895  47.        ]\n",
      " [193.          90.          23.        ]\n",
      " [187.          80.          27.        ]\n",
      " [183.          88.          28.        ]\n",
      " [159.          40.          29.        ]\n",
      " [164.          66.          32.        ]\n",
      " [166.          56.          42.        ]]\n"
     ]
    }
   ],
   "source": [
    "from sklearn.impute import SimpleImputer\n",
    "imputer= SimpleImputer(missing_values=np.nan,strategy=\"mean\")\n",
    "veriler_eksik = pd.read_csv('veriler_eksik.csv')\n",
    "#print(veriler_eksik)\n",
    "#mean ortalama almak ve nan olan yerlere yerlestirmek\n",
    "\n",
    "#----------------------------------------------------------------\n",
    "\n",
    "#2.veri onisleme\n",
    "uc_kolon=veriler_eksik.iloc[:,1:4].values\n",
    "print(uc_kolon)#dizi sekline cevrilmis 3 kolon\n",
    "\n",
    "\n",
    "imputer = imputer.fit(uc_kolon[:,1:4])\n",
    "uc_kolon[:,1:4] = imputer.transform(uc_kolon[:,1:4])\n",
    "print(uc_kolon)# ortalma hesaplanip datadaki nan bosluklar dolduruldu"
   ],
   "metadata": {
    "collapsed": false,
    "pycharm": {
     "name": "#%%\n"
    }
   }
  },
  {
   "cell_type": "code",
   "execution_count": 35,
   "outputs": [
    {
     "name": "stdout",
     "output_type": "stream",
     "text": [
      "[[1]\n",
      " [1]\n",
      " [1]\n",
      " [1]\n",
      " [1]\n",
      " [1]\n",
      " [1]\n",
      " [1]\n",
      " [1]\n",
      " [2]\n",
      " [2]\n",
      " [2]\n",
      " [2]\n",
      " [2]\n",
      " [2]\n",
      " [0]\n",
      " [0]\n",
      " [0]\n",
      " [0]\n",
      " [0]\n",
      " [0]\n",
      " [0]]\n",
      "[[0. 1. 0.]\n",
      " [0. 1. 0.]\n",
      " [0. 1. 0.]\n",
      " [0. 1. 0.]\n",
      " [0. 1. 0.]\n",
      " [0. 1. 0.]\n",
      " [0. 1. 0.]\n",
      " [0. 1. 0.]\n",
      " [0. 1. 0.]\n",
      " [0. 0. 1.]\n",
      " [0. 0. 1.]\n",
      " [0. 0. 1.]\n",
      " [0. 0. 1.]\n",
      " [0. 0. 1.]\n",
      " [0. 0. 1.]\n",
      " [1. 0. 0.]\n",
      " [1. 0. 0.]\n",
      " [1. 0. 0.]\n",
      " [1. 0. 0.]\n",
      " [1. 0. 0.]\n",
      " [1. 0. 0.]\n",
      " [1. 0. 0.]]\n",
      "22\n"
     ]
    }
   ],
   "source": [
    "#Categoric Data\n",
    "veriler = pd.read_csv('veriler.csv')\n",
    "\n",
    "Yas = veriler.iloc[:,1:4].values# nunmy arraylerine ceviriyoruz\n",
    "#print(Yas)\n",
    "\n",
    "ulke = veriler.iloc[:,0:1].values\n",
    "#print(ulke)\n",
    "\n",
    "from sklearn import preprocessing\n",
    "le = preprocessing.LabelEncoder()\n",
    "ulke[:,0] = le.fit_transform(veriler.iloc[:,0])\n",
    "print(ulke)# 11122233 seklinde sayiya ceviriyor\n",
    "\n",
    "ohe = preprocessing.OneHotEncoder()\n",
    "ulke = ohe.fit_transform(ulke).toarray()\n",
    "print(ulke)# [0. 1. 0.] [1. 0. 0.] seklinde sayiya ceviriyor\n",
    "\n",
    "print(len(veriler.values)) #range bulduk\n",
    "sonuc = pd.DataFrame(data=ulke, index = range(22), columns = ['fr','tr','us'])\n",
    "#print(sonuc)#pandas veri tipine cevirdik exel dosyasi gibi uc baslikli\n",
    "\n"
   ],
   "metadata": {
    "collapsed": false,
    "pycharm": {
     "name": "#%%\n"
    }
   }
  },
  {
   "cell_type": "markdown",
   "source": [],
   "metadata": {
    "collapsed": false,
    "pycharm": {
     "name": "#%% md\n"
    }
   }
  },
  {
   "cell_type": "markdown",
   "source": [
    "Create Data Frame and Merge"
   ],
   "metadata": {
    "collapsed": false,
    "pycharm": {
     "name": "#%% md\n"
    }
   }
  },
  {
   "cell_type": "code",
   "execution_count": 19,
   "outputs": [
    {
     "name": "stdout",
     "output_type": "stream",
     "text": [
      "     fr   tr   us  boy  kilo  yas cinsiyet\n",
      "0   0.0  1.0  0.0  130    30   10        e\n",
      "1   0.0  1.0  0.0  125    36   11        e\n",
      "2   0.0  1.0  0.0  135    34   10        k\n",
      "3   0.0  1.0  0.0  133    30    9        k\n",
      "4   0.0  1.0  0.0  129    38   12        e\n",
      "5   0.0  1.0  0.0  180    90   30        e\n",
      "6   0.0  1.0  0.0  190    80   25        e\n",
      "7   0.0  1.0  0.0  175    90   35        e\n",
      "8   0.0  1.0  0.0  177    60   22        k\n",
      "9   0.0  0.0  1.0  185   105   33        e\n",
      "10  0.0  0.0  1.0  165    55   27        k\n",
      "11  0.0  0.0  1.0  155    50   44        k\n",
      "12  0.0  0.0  1.0  160    58   39        k\n",
      "13  0.0  0.0  1.0  162    59   41        k\n",
      "14  0.0  0.0  1.0  167    62   55        k\n",
      "15  1.0  0.0  0.0  174    70   47        e\n",
      "16  1.0  0.0  0.0  193    90   23        e\n",
      "17  1.0  0.0  0.0  187    80   27        e\n",
      "18  1.0  0.0  0.0  183    88   28        e\n",
      "19  1.0  0.0  0.0  159    40   29        k\n",
      "20  1.0  0.0  0.0  164    66   32        k\n",
      "21  1.0  0.0  0.0  166    56   42        k\n"
     ]
    }
   ],
   "source": [
    "sonuc2 = pd.DataFrame(data=Yas, index = range(22), columns = ['boy','kilo','yas'])\n",
    "#print(sonuc2) # 1,2,3 indexli 22 ye kadar olan boy ve kilo , yas olan pandas datasi\n",
    "\n",
    "cinsiyet = veriler.iloc[:,-1].values#create/\n",
    "#print(cinsiyet)# cinsiyet numpay arrayi yaptik\n",
    "sonuc3 = pd.DataFrame(data = cinsiyet, index = range(22), columns = ['cinsiyet'])\n",
    "#print(sonuc3)# cinsiyet pandasi yaptik\n",
    "\n",
    "s=pd.concat([sonuc,sonuc2], axis=1)\n",
    "#print(s)\n",
    "\n",
    "s2=pd.concat([s,sonuc3], axis=1)\n",
    "print(s2)\n",
    "# Butun Birlesimlerimizi yaptik."
   ],
   "metadata": {
    "collapsed": false,
    "pycharm": {
     "name": "#%%\n"
    }
   }
  }
 ],
 "metadata": {
  "kernelspec": {
   "display_name": "Python 3",
   "language": "python",
   "name": "python3"
  },
  "language_info": {
   "codemirror_mode": {
    "name": "ipython",
    "version": 2
   },
   "file_extension": ".py",
   "mimetype": "text/x-python",
   "name": "python",
   "nbconvert_exporter": "python",
   "pygments_lexer": "ipython2",
   "version": "2.7.6"
  }
 },
 "nbformat": 4,
 "nbformat_minor": 0
}